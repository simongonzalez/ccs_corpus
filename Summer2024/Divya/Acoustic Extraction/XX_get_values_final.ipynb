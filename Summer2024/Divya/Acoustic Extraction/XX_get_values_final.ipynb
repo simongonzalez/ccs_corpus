{
 "cells": [
  {
   "cell_type": "code",
   "outputs": [],
   "source": [
    "import os\n",
    "import pandas as pd\n",
    "import numpy as np\n",
    "from pydub import AudioSegment\n",
    "import librosa\n",
    "import parselmouth\n",
    "from parselmouth.praat import call\n",
    "import time as clock"
   ],
   "metadata": {
    "collapsed": false,
    "ExecuteTime": {
     "end_time": "2024-08-04T23:20:29.509293Z",
     "start_time": "2024-08-04T23:20:28.839025Z"
    }
   },
   "id": "e9c74978aa431bac",
   "execution_count": 1
  },
  {
   "cell_type": "code",
   "outputs": [],
   "source": [
    "def convert_mp3_to_wav(mp3_filename, wav_filename):\n",
    "    audio = AudioSegment.from_mp3(mp3_filename)\n",
    "    audio.export(wav_filename, format=\"wav\")"
   ],
   "metadata": {
    "collapsed": false,
    "ExecuteTime": {
     "end_time": "2024-08-04T23:20:39.466761Z",
     "start_time": "2024-08-04T23:20:39.454427Z"
    }
   },
   "id": "19446bcbdc3746f",
   "execution_count": 2
  },
  {
   "cell_type": "code",
   "outputs": [],
   "source": [
    "\n",
    "def process_audio_and_data(mp3_path, csv_path, output_csv_path, output_dir):\n",
    "    # Convert mp3 to wav\n",
    "    wav_filename = os.path.join(output_dir, \"temp_audio.wav\")\n",
    "    convert_mp3_to_wav(mp3_path, wav_filename)\n",
    "\n",
    "    # Load the table\n",
    "    table = pd.read_csv(csv_path)\n",
    "\n",
    "    # Load the .wav file using librosa\n",
    "    y, sr = librosa.load(wav_filename, sr=None)\n",
    "\n",
    "    # Initialize columns in the table for the extracted features\n",
    "    table['pitchValue'] = np.nan\n",
    "    table['intensityValue'] = np.nan\n",
    "    table['formant_1'] = np.nan\n",
    "    table['formant_2'] = np.nan\n",
    "    table['formant_3'] = np.nan\n",
    "    table['mfcc_1'] = np.nan\n",
    "    table['mfcc_2'] = np.nan\n",
    "    table['mfcc_3'] = np.nan\n",
    "\n",
    "    # Load the .wav file into a Sound object for parselmouth\n",
    "    sound = parselmouth.Sound(wav_filename)\n",
    "\n",
    "    count = 0\n",
    "\n",
    "    for i, row in table.iterrows():\n",
    "        time = row['time']\n",
    "\n",
    "        # Ensure the time value is within the audio duration\n",
    "        if time > len(y) / sr:\n",
    "            print(f\"Time value {time} exceeds the duration of the audio.\")\n",
    "            continue\n",
    "\n",
    "        # Extract MFCCs at the specified time\n",
    "        frame_index = int(time * sr)\n",
    "        if frame_index >= len(y):\n",
    "            print(f\"Frame index {frame_index} is out of bounds for time {time}.\")\n",
    "            continue\n",
    "\n",
    "        # Extract a short segment of the audio around the specified time\n",
    "        hop_length = 512  # hop length for STFT\n",
    "        n_fft = 2048  # length of the FFT window\n",
    "        mfccs = librosa.feature.mfcc(y=y[frame_index:frame_index + n_fft], sr=sr, n_mfcc=13, hop_length=hop_length)\n",
    "\n",
    "        # Check if enough MFCC frames were extracted\n",
    "        if mfccs.shape[1] == 0:\n",
    "            print(f\"No MFCC frames extracted for time {time}.\")\n",
    "            continue\n",
    "\n",
    "        mfcc_1 = mfccs[0, 0]\n",
    "        mfcc_2 = mfccs[1, 0]\n",
    "        mfcc_3 = mfccs[2, 0]\n",
    "\n",
    "        print(mfcc_1, mfcc_2, mfcc_3)\n",
    "\n",
    "        # Insert values into the table\n",
    "        table.at[i, 'mfcc_1'] = mfcc_1\n",
    "        table.at[i, 'mfcc_2'] = mfcc_2\n",
    "        table.at[i, 'mfcc_3'] = mfcc_3\n",
    "\n",
    "        try:\n",
    "            # Get pitch\n",
    "            pitch = call(sound, \"To Pitch\", 0.0, 75, 600)\n",
    "            tmp_pitch_value = call(pitch, \"Get value at time...\", time, \"Hertz\", \"Linear\")\n",
    "\n",
    "            # Get intensity\n",
    "            intensity = call(sound, \"To Intensity\", 75, 0.0, \"yes\")\n",
    "            tmp_intensity_value = call(intensity, \"Get value at time...\", time, \"Cubic\")\n",
    "\n",
    "            # Get formants\n",
    "            formant = call(sound, \"To Formant (burg)...\", 0.0, 5, 5500, 0.025, 50)\n",
    "            f1_value = call(formant, \"Get value at time...\", 1, time, \"hertz\", \"Linear\")\n",
    "            f2_value = call(formant, \"Get value at time...\", 2, time, \"hertz\", \"Linear\")\n",
    "            f3_value = call(formant, \"Get value at time...\", 3, time, \"hertz\", \"Linear\")\n",
    "\n",
    "            # Insert values into the table\n",
    "            table.at[i, 'pitchValue'] = tmp_pitch_value\n",
    "            table.at[i, 'intensityValue'] = tmp_intensity_value\n",
    "            table.at[i, 'formant_1'] = f1_value\n",
    "            table.at[i, 'formant_2'] = f2_value\n",
    "            table.at[i, 'formant_3'] = f3_value\n",
    "        except Exception as e:\n",
    "            print(f\"An error occurred while extracting pitch, intensity, or formants: {e}\")\n",
    "        count += 1\n",
    "\n",
    "    # Save the updated table\n",
    "    table.to_csv(output_csv_path, index=False)"
   ],
   "metadata": {
    "collapsed": false,
    "ExecuteTime": {
     "end_time": "2024-08-04T23:21:02.437413Z",
     "start_time": "2024-08-04T23:21:02.405176Z"
    }
   },
   "id": "81a64832a24cb510",
   "execution_count": 3
  },
  {
   "cell_type": "code",
   "outputs": [],
   "source": [
    "def main():\n",
    "    base_dir = os.getcwd()\n",
    "    input_dir = os.path.join(base_dir, 'input_output', 'input')\n",
    "    output_dir = os.path.join(base_dir, 'input_output', 'output')\n",
    "\n",
    "    # Ensure the output directory exists\n",
    "    if not os.path.exists(output_dir):\n",
    "        os.makedirs(output_dir)\n",
    "\n",
    "    # Iterate over all .mp3 files in the input directory\n",
    "    for file in os.listdir(input_dir):\n",
    "        if file.endswith('.mp3'):\n",
    "            file_name = os.path.splitext(file)[0]\n",
    "            mp3_path = os.path.join(input_dir, file)\n",
    "            csv_path = os.path.join(input_dir, f\"{file_name}_data_info.csv\")\n",
    "            output_csv_path = os.path.join(output_dir, f\"{file_name}_data_info_updated.csv\")\n",
    "\n",
    "            # Check if corresponding CSV file exists\n",
    "            if os.path.exists(csv_path):\n",
    "                print(f\"Processing {file_name}...\")\n",
    "                process_audio_and_data(mp3_path, csv_path, output_csv_path, output_dir)\n",
    "            else:\n",
    "                print(f\"CSV file for {file_name} does not exist.\")"
   ],
   "metadata": {
    "collapsed": false,
    "ExecuteTime": {
     "end_time": "2024-08-04T23:23:03.243610Z",
     "start_time": "2024-08-04T23:23:03.220656Z"
    }
   },
   "id": "f9cd5cb3ef1f8e60",
   "execution_count": 6
  },
  {
   "cell_type": "code",
   "outputs": [
    {
     "name": "stdout",
     "output_type": "stream",
     "text": [
      "Processing CA1HA_87...\n",
      "-177.84326 149.05338 44.406708\n",
      "-157.58824 162.41055 29.755587\n",
      "-112.06533 157.77315 -31.226585\n",
      "-48.435547 121.7322 -36.162457\n",
      "-46.635605 98.5363 -9.968652\n",
      "-94.03912 122.07829 8.701124\n",
      "-55.3148 117.973724 -9.645851\n",
      "-55.85595 139.04095 -37.53103\n",
      "-59.827457 132.21083 -23.120152\n",
      "-61.161175 117.65119 7.3442974\n",
      "-140.78925 153.65991 3.3504581\n",
      "-160.69038 160.40439 -8.573069\n"
     ]
    },
    {
     "ename": "KeyboardInterrupt",
     "evalue": "",
     "output_type": "error",
     "traceback": [
      "\u001B[0;31m---------------------------------------------------------------------------\u001B[0m",
      "\u001B[0;31mKeyboardInterrupt\u001B[0m                         Traceback (most recent call last)",
      "Cell \u001B[0;32mIn[7], line 1\u001B[0m\n\u001B[0;32m----> 1\u001B[0m \u001B[43mmain\u001B[49m\u001B[43m(\u001B[49m\u001B[43m)\u001B[49m\n",
      "Cell \u001B[0;32mIn[6], line 21\u001B[0m, in \u001B[0;36mmain\u001B[0;34m()\u001B[0m\n\u001B[1;32m     19\u001B[0m \u001B[38;5;28;01mif\u001B[39;00m os\u001B[38;5;241m.\u001B[39mpath\u001B[38;5;241m.\u001B[39mexists(csv_path):\n\u001B[1;32m     20\u001B[0m     \u001B[38;5;28mprint\u001B[39m(\u001B[38;5;124mf\u001B[39m\u001B[38;5;124m\"\u001B[39m\u001B[38;5;124mProcessing \u001B[39m\u001B[38;5;132;01m{\u001B[39;00mfile_name\u001B[38;5;132;01m}\u001B[39;00m\u001B[38;5;124m...\u001B[39m\u001B[38;5;124m\"\u001B[39m)\n\u001B[0;32m---> 21\u001B[0m     \u001B[43mprocess_audio_and_data\u001B[49m\u001B[43m(\u001B[49m\u001B[43mmp3_path\u001B[49m\u001B[43m,\u001B[49m\u001B[43m \u001B[49m\u001B[43mcsv_path\u001B[49m\u001B[43m,\u001B[49m\u001B[43m \u001B[49m\u001B[43moutput_csv_path\u001B[49m\u001B[43m,\u001B[49m\u001B[43m \u001B[49m\u001B[43moutput_dir\u001B[49m\u001B[43m)\u001B[49m\n\u001B[1;32m     22\u001B[0m \u001B[38;5;28;01melse\u001B[39;00m:\n\u001B[1;32m     23\u001B[0m     \u001B[38;5;28mprint\u001B[39m(\u001B[38;5;124mf\u001B[39m\u001B[38;5;124m\"\u001B[39m\u001B[38;5;124mCSV file for \u001B[39m\u001B[38;5;132;01m{\u001B[39;00mfile_name\u001B[38;5;132;01m}\u001B[39;00m\u001B[38;5;124m does not exist.\u001B[39m\u001B[38;5;124m\"\u001B[39m)\n",
      "Cell \u001B[0;32mIn[3], line 72\u001B[0m, in \u001B[0;36mprocess_audio_and_data\u001B[0;34m(mp3_path, csv_path, output_csv_path, output_dir)\u001B[0m\n\u001B[1;32m     69\u001B[0m tmp_intensity_value \u001B[38;5;241m=\u001B[39m call(intensity, \u001B[38;5;124m\"\u001B[39m\u001B[38;5;124mGet value at time...\u001B[39m\u001B[38;5;124m\"\u001B[39m, time, \u001B[38;5;124m\"\u001B[39m\u001B[38;5;124mCubic\u001B[39m\u001B[38;5;124m\"\u001B[39m)\n\u001B[1;32m     71\u001B[0m \u001B[38;5;66;03m# Get formants\u001B[39;00m\n\u001B[0;32m---> 72\u001B[0m formant \u001B[38;5;241m=\u001B[39m \u001B[43mcall\u001B[49m\u001B[43m(\u001B[49m\u001B[43msound\u001B[49m\u001B[43m,\u001B[49m\u001B[43m \u001B[49m\u001B[38;5;124;43m\"\u001B[39;49m\u001B[38;5;124;43mTo Formant (burg)...\u001B[39;49m\u001B[38;5;124;43m\"\u001B[39;49m\u001B[43m,\u001B[49m\u001B[43m \u001B[49m\u001B[38;5;241;43m0.0\u001B[39;49m\u001B[43m,\u001B[49m\u001B[43m \u001B[49m\u001B[38;5;241;43m5\u001B[39;49m\u001B[43m,\u001B[49m\u001B[43m \u001B[49m\u001B[38;5;241;43m5500\u001B[39;49m\u001B[43m,\u001B[49m\u001B[43m \u001B[49m\u001B[38;5;241;43m0.025\u001B[39;49m\u001B[43m,\u001B[49m\u001B[43m \u001B[49m\u001B[38;5;241;43m50\u001B[39;49m\u001B[43m)\u001B[49m\n\u001B[1;32m     73\u001B[0m f1_value \u001B[38;5;241m=\u001B[39m call(formant, \u001B[38;5;124m\"\u001B[39m\u001B[38;5;124mGet value at time...\u001B[39m\u001B[38;5;124m\"\u001B[39m, \u001B[38;5;241m1\u001B[39m, time, \u001B[38;5;124m\"\u001B[39m\u001B[38;5;124mhertz\u001B[39m\u001B[38;5;124m\"\u001B[39m, \u001B[38;5;124m\"\u001B[39m\u001B[38;5;124mLinear\u001B[39m\u001B[38;5;124m\"\u001B[39m)\n\u001B[1;32m     74\u001B[0m f2_value \u001B[38;5;241m=\u001B[39m call(formant, \u001B[38;5;124m\"\u001B[39m\u001B[38;5;124mGet value at time...\u001B[39m\u001B[38;5;124m\"\u001B[39m, \u001B[38;5;241m2\u001B[39m, time, \u001B[38;5;124m\"\u001B[39m\u001B[38;5;124mhertz\u001B[39m\u001B[38;5;124m\"\u001B[39m, \u001B[38;5;124m\"\u001B[39m\u001B[38;5;124mLinear\u001B[39m\u001B[38;5;124m\"\u001B[39m)\n",
      "\u001B[0;31mKeyboardInterrupt\u001B[0m: "
     ]
    }
   ],
   "source": [
    "main()"
   ],
   "metadata": {
    "collapsed": false,
    "ExecuteTime": {
     "end_time": "2024-08-04T23:27:45.449825Z",
     "start_time": "2024-08-04T23:23:04.585501Z"
    }
   },
   "id": "5e76e93b8624cc76",
   "execution_count": 7
  },
  {
   "cell_type": "code",
   "outputs": [],
   "source": [],
   "metadata": {
    "collapsed": false
   },
   "id": "4805e56dcc83359c"
  }
 ],
 "metadata": {
  "kernelspec": {
   "display_name": "Python 3",
   "language": "python",
   "name": "python3"
  },
  "language_info": {
   "codemirror_mode": {
    "name": "ipython",
    "version": 2
   },
   "file_extension": ".py",
   "mimetype": "text/x-python",
   "name": "python",
   "nbconvert_exporter": "python",
   "pygments_lexer": "ipython2",
   "version": "2.7.6"
  }
 },
 "nbformat": 4,
 "nbformat_minor": 5
}
