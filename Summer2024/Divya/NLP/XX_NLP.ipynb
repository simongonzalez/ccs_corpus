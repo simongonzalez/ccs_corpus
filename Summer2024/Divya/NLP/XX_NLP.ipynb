{
 "cells": [
  {
   "cell_type": "code",
   "outputs": [],
   "source": [
    "import pandas as pd\n",
    "import stanza\n",
    "import re\n",
    "from itertools import groupby\n",
    "from collections import Counter\n",
    "from docx import Document\n",
    "from subprocess import call\n",
    "import os\n",
    "import pypandoc\n",
    "import numpy as np"
   ],
   "metadata": {
    "collapsed": false,
    "ExecuteTime": {
     "end_time": "2024-08-04T23:40:04.455505Z",
     "start_time": "2024-08-04T23:40:04.437432Z"
    }
   },
   "id": "b9442a1d5321c129",
   "execution_count": 10
  },
  {
   "cell_type": "code",
   "outputs": [
    {
     "data": {
      "text/plain": "Downloading https://raw.githubusercontent.com/stanfordnlp/stanza-resources/main/resources_1.8.0.json:   0%|   …",
      "application/vnd.jupyter.widget-view+json": {
       "version_major": 2,
       "version_minor": 0,
       "model_id": "39aafc52105f43fe98eb03645ffe07d6"
      }
     },
     "metadata": {},
     "output_type": "display_data"
    },
    {
     "name": "stderr",
     "output_type": "stream",
     "text": [
      "2024-08-04 19:38:39 INFO: Downloaded file to /Users/pradeepchandran/stanza_resources/resources.json\n",
      "2024-08-04 19:38:39 INFO: Downloading default packages for language: es (Spanish) ...\n",
      "2024-08-04 19:38:42 INFO: File exists: /Users/pradeepchandran/stanza_resources/es/default.zip\n",
      "2024-08-04 19:38:45 INFO: Finished downloading models and saved to /Users/pradeepchandran/stanza_resources\n",
      "2024-08-04 19:38:45 INFO: Checking for updates to resources.json in case models have been updated.  Note: this behavior can be turned off with download_method=None or download_method=DownloadMethod.REUSE_RESOURCES\n"
     ]
    },
    {
     "data": {
      "text/plain": "Downloading https://raw.githubusercontent.com/stanfordnlp/stanza-resources/main/resources_1.8.0.json:   0%|   …",
      "application/vnd.jupyter.widget-view+json": {
       "version_major": 2,
       "version_minor": 0,
       "model_id": "ad5a4f4efe8840428b021f8432e441aa"
      }
     },
     "metadata": {},
     "output_type": "display_data"
    },
    {
     "name": "stderr",
     "output_type": "stream",
     "text": [
      "2024-08-04 19:38:46 INFO: Downloaded file to /Users/pradeepchandran/stanza_resources/resources.json\n",
      "2024-08-04 19:38:47 INFO: Loading these models for language: es (Spanish):\n",
      "====================================\n",
      "| Processor    | Package           |\n",
      "------------------------------------\n",
      "| tokenize     | combined          |\n",
      "| mwt          | combined          |\n",
      "| pos          | combined_charlm   |\n",
      "| lemma        | combined_nocharlm |\n",
      "| constituency | combined_charlm   |\n",
      "| depparse     | combined_charlm   |\n",
      "| sentiment    | tass2020_charlm   |\n",
      "| ner          | conll02           |\n",
      "====================================\n",
      "\n",
      "2024-08-04 19:38:47 INFO: Using device: cpu\n",
      "2024-08-04 19:38:47 INFO: Loading: tokenize\n",
      "/opt/anaconda3/envs/ccs_corpus/lib/python3.9/site-packages/stanza/models/tokenization/trainer.py:82: FutureWarning: You are using `torch.load` with `weights_only=False` (the current default value), which uses the default pickle module implicitly. It is possible to construct malicious pickle data which will execute arbitrary code during unpickling (See https://github.com/pytorch/pytorch/blob/main/SECURITY.md#untrusted-models for more details). In a future release, the default value for `weights_only` will be flipped to `True`. This limits the functions that could be executed during unpickling. Arbitrary objects will no longer be allowed to be loaded via this mode unless they are explicitly allowlisted by the user via `torch.serialization.add_safe_globals`. We recommend you start setting `weights_only=True` for any use case where you don't have full control of the loaded file. Please open an issue on GitHub for any issues related to this experimental feature.\n",
      "  checkpoint = torch.load(filename, lambda storage, loc: storage)\n",
      "2024-08-04 19:38:48 INFO: Loading: mwt\n",
      "/opt/anaconda3/envs/ccs_corpus/lib/python3.9/site-packages/stanza/models/mwt/trainer.py:170: FutureWarning: You are using `torch.load` with `weights_only=False` (the current default value), which uses the default pickle module implicitly. It is possible to construct malicious pickle data which will execute arbitrary code during unpickling (See https://github.com/pytorch/pytorch/blob/main/SECURITY.md#untrusted-models for more details). In a future release, the default value for `weights_only` will be flipped to `True`. This limits the functions that could be executed during unpickling. Arbitrary objects will no longer be allowed to be loaded via this mode unless they are explicitly allowlisted by the user via `torch.serialization.add_safe_globals`. We recommend you start setting `weights_only=True` for any use case where you don't have full control of the loaded file. Please open an issue on GitHub for any issues related to this experimental feature.\n",
      "  checkpoint = torch.load(filename, lambda storage, loc: storage)\n",
      "2024-08-04 19:38:48 INFO: Loading: pos\n",
      "/opt/anaconda3/envs/ccs_corpus/lib/python3.9/site-packages/stanza/models/pos/trainer.py:139: FutureWarning: You are using `torch.load` with `weights_only=False` (the current default value), which uses the default pickle module implicitly. It is possible to construct malicious pickle data which will execute arbitrary code during unpickling (See https://github.com/pytorch/pytorch/blob/main/SECURITY.md#untrusted-models for more details). In a future release, the default value for `weights_only` will be flipped to `True`. This limits the functions that could be executed during unpickling. Arbitrary objects will no longer be allowed to be loaded via this mode unless they are explicitly allowlisted by the user via `torch.serialization.add_safe_globals`. We recommend you start setting `weights_only=True` for any use case where you don't have full control of the loaded file. Please open an issue on GitHub for any issues related to this experimental feature.\n",
      "  checkpoint = torch.load(filename, lambda storage, loc: storage)\n",
      "/opt/anaconda3/envs/ccs_corpus/lib/python3.9/site-packages/stanza/models/common/pretrain.py:56: FutureWarning: You are using `torch.load` with `weights_only=False` (the current default value), which uses the default pickle module implicitly. It is possible to construct malicious pickle data which will execute arbitrary code during unpickling (See https://github.com/pytorch/pytorch/blob/main/SECURITY.md#untrusted-models for more details). In a future release, the default value for `weights_only` will be flipped to `True`. This limits the functions that could be executed during unpickling. Arbitrary objects will no longer be allowed to be loaded via this mode unless they are explicitly allowlisted by the user via `torch.serialization.add_safe_globals`. We recommend you start setting `weights_only=True` for any use case where you don't have full control of the loaded file. Please open an issue on GitHub for any issues related to this experimental feature.\n",
      "  data = torch.load(self.filename, lambda storage, loc: storage)\n",
      "/opt/anaconda3/envs/ccs_corpus/lib/python3.9/site-packages/stanza/models/common/char_model.py:271: FutureWarning: You are using `torch.load` with `weights_only=False` (the current default value), which uses the default pickle module implicitly. It is possible to construct malicious pickle data which will execute arbitrary code during unpickling (See https://github.com/pytorch/pytorch/blob/main/SECURITY.md#untrusted-models for more details). In a future release, the default value for `weights_only` will be flipped to `True`. This limits the functions that could be executed during unpickling. Arbitrary objects will no longer be allowed to be loaded via this mode unless they are explicitly allowlisted by the user via `torch.serialization.add_safe_globals`. We recommend you start setting `weights_only=True` for any use case where you don't have full control of the loaded file. Please open an issue on GitHub for any issues related to this experimental feature.\n",
      "  state = torch.load(filename, lambda storage, loc: storage)\n",
      "2024-08-04 19:38:48 INFO: Loading: lemma\n",
      "/opt/anaconda3/envs/ccs_corpus/lib/python3.9/site-packages/stanza/models/lemma/trainer.py:236: FutureWarning: You are using `torch.load` with `weights_only=False` (the current default value), which uses the default pickle module implicitly. It is possible to construct malicious pickle data which will execute arbitrary code during unpickling (See https://github.com/pytorch/pytorch/blob/main/SECURITY.md#untrusted-models for more details). In a future release, the default value for `weights_only` will be flipped to `True`. This limits the functions that could be executed during unpickling. Arbitrary objects will no longer be allowed to be loaded via this mode unless they are explicitly allowlisted by the user via `torch.serialization.add_safe_globals`. We recommend you start setting `weights_only=True` for any use case where you don't have full control of the loaded file. Please open an issue on GitHub for any issues related to this experimental feature.\n",
      "  checkpoint = torch.load(filename, lambda storage, loc: storage)\n",
      "2024-08-04 19:38:48 INFO: Loading: constituency\n",
      "/opt/anaconda3/envs/ccs_corpus/lib/python3.9/site-packages/stanza/models/constituency/trainer.py:236: FutureWarning: You are using `torch.load` with `weights_only=False` (the current default value), which uses the default pickle module implicitly. It is possible to construct malicious pickle data which will execute arbitrary code during unpickling (See https://github.com/pytorch/pytorch/blob/main/SECURITY.md#untrusted-models for more details). In a future release, the default value for `weights_only` will be flipped to `True`. This limits the functions that could be executed during unpickling. Arbitrary objects will no longer be allowed to be loaded via this mode unless they are explicitly allowlisted by the user via `torch.serialization.add_safe_globals`. We recommend you start setting `weights_only=True` for any use case where you don't have full control of the loaded file. Please open an issue on GitHub for any issues related to this experimental feature.\n",
      "  checkpoint = torch.load(filename, lambda storage, loc: storage)\n",
      "2024-08-04 19:38:48 INFO: Loading: depparse\n",
      "/opt/anaconda3/envs/ccs_corpus/lib/python3.9/site-packages/stanza/models/depparse/trainer.py:194: FutureWarning: You are using `torch.load` with `weights_only=False` (the current default value), which uses the default pickle module implicitly. It is possible to construct malicious pickle data which will execute arbitrary code during unpickling (See https://github.com/pytorch/pytorch/blob/main/SECURITY.md#untrusted-models for more details). In a future release, the default value for `weights_only` will be flipped to `True`. This limits the functions that could be executed during unpickling. Arbitrary objects will no longer be allowed to be loaded via this mode unless they are explicitly allowlisted by the user via `torch.serialization.add_safe_globals`. We recommend you start setting `weights_only=True` for any use case where you don't have full control of the loaded file. Please open an issue on GitHub for any issues related to this experimental feature.\n",
      "  checkpoint = torch.load(filename, lambda storage, loc: storage)\n",
      "2024-08-04 19:38:49 INFO: Loading: sentiment\n",
      "/opt/anaconda3/envs/ccs_corpus/lib/python3.9/site-packages/stanza/models/classifiers/trainer.py:72: FutureWarning: You are using `torch.load` with `weights_only=False` (the current default value), which uses the default pickle module implicitly. It is possible to construct malicious pickle data which will execute arbitrary code during unpickling (See https://github.com/pytorch/pytorch/blob/main/SECURITY.md#untrusted-models for more details). In a future release, the default value for `weights_only` will be flipped to `True`. This limits the functions that could be executed during unpickling. Arbitrary objects will no longer be allowed to be loaded via this mode unless they are explicitly allowlisted by the user via `torch.serialization.add_safe_globals`. We recommend you start setting `weights_only=True` for any use case where you don't have full control of the loaded file. Please open an issue on GitHub for any issues related to this experimental feature.\n",
      "  checkpoint = torch.load(filename, lambda storage, loc: storage)\n",
      "2024-08-04 19:38:49 INFO: Loading: ner\n",
      "/opt/anaconda3/envs/ccs_corpus/lib/python3.9/site-packages/stanza/models/ner/trainer.py:197: FutureWarning: You are using `torch.load` with `weights_only=False` (the current default value), which uses the default pickle module implicitly. It is possible to construct malicious pickle data which will execute arbitrary code during unpickling (See https://github.com/pytorch/pytorch/blob/main/SECURITY.md#untrusted-models for more details). In a future release, the default value for `weights_only` will be flipped to `True`. This limits the functions that could be executed during unpickling. Arbitrary objects will no longer be allowed to be loaded via this mode unless they are explicitly allowlisted by the user via `torch.serialization.add_safe_globals`. We recommend you start setting `weights_only=True` for any use case where you don't have full control of the loaded file. Please open an issue on GitHub for any issues related to this experimental feature.\n",
      "  checkpoint = torch.load(filename, lambda storage, loc: storage)\n",
      "2024-08-04 19:38:50 INFO: Done loading processors!\n"
     ]
    }
   ],
   "source": [
    "# Initialize Stanza\n",
    "stanza.download('es')  # Download Spanish models\n",
    "nlp = stanza.Pipeline('es')"
   ],
   "metadata": {
    "collapsed": false,
    "ExecuteTime": {
     "end_time": "2024-08-04T23:38:50.406628Z",
     "start_time": "2024-08-04T23:38:39.637310Z"
    }
   },
   "id": "3ea7956315358b84",
   "execution_count": 2
  },
  {
   "cell_type": "code",
   "outputs": [],
   "source": [
    "# Define helper functions\n",
    "def clean_text(text):\n",
    "    text = re.sub(r'\\s*\\[[^\\]]+\\]', '', text)  # Remove text between []\n",
    "    text = re.sub(r'Habl\\..*?|Enc\\.[0-9]\\:', '', text)  # Remove speaker indicators\n",
    "    text = re.sub(r'[\"\\'/]', '', text)  # Remove certain punctuation\n",
    "    text = text.lower().strip()\n",
    "    return text"
   ],
   "metadata": {
    "collapsed": false,
    "ExecuteTime": {
     "end_time": "2024-08-04T23:38:56.477633Z",
     "start_time": "2024-08-04T23:38:56.469190Z"
    }
   },
   "id": "6c82aedcad1b0574",
   "execution_count": 3
  },
  {
   "cell_type": "code",
   "outputs": [],
   "source": [
    "def get_question_structure(text):\n",
    "    if '¿' in text and '?' in text:\n",
    "        return 'Inline'\n",
    "    elif '¿' in text:\n",
    "        return 'Start'\n",
    "    elif '?' in text:\n",
    "        return 'End'\n",
    "    return 'Other'"
   ],
   "metadata": {
    "collapsed": false,
    "ExecuteTime": {
     "end_time": "2024-08-04T23:39:05.806889Z",
     "start_time": "2024-08-04T23:39:05.792285Z"
    }
   },
   "id": "73596b8b08e26e5f",
   "execution_count": 4
  },
  {
   "cell_type": "code",
   "outputs": [],
   "source": [
    "def get_exclamation_structure(text):\n",
    "    if '¡' in text and '!' in text:\n",
    "        return 'Inline'\n",
    "    elif '¡' in text:\n",
    "        return 'Start'\n",
    "    elif '!' in text:\n",
    "        return 'End'\n",
    "    return 'Other'"
   ],
   "metadata": {
    "collapsed": false,
    "ExecuteTime": {
     "end_time": "2024-08-04T23:39:13.050425Z",
     "start_time": "2024-08-04T23:39:13.040317Z"
    }
   },
   "id": "e2fd40341f5ffca2",
   "execution_count": 5
  },
  {
   "cell_type": "code",
   "outputs": [],
   "source": [
    "def read_doc(file_path):\n",
    "    doc = Document(file_path)\n",
    "    lines_all = []\n",
    "    for paragraph in doc.paragraphs:\n",
    "        # Split the text of the paragraph into lines\n",
    "        lines = paragraph.text.split('\\n')\n",
    "        # Iterate through each line in the paragraph\n",
    "        for line in lines:\n",
    "            lines_all.append(line)\n",
    "    return lines_all"
   ],
   "metadata": {
    "collapsed": false,
    "ExecuteTime": {
     "end_time": "2024-08-04T23:39:20.914792Z",
     "start_time": "2024-08-04T23:39:20.906917Z"
    }
   },
   "id": "ea557774971800c",
   "execution_count": 6
  },
  {
   "cell_type": "code",
   "outputs": [],
   "source": [
    "def split_text(row):\n",
    "    pattern = r'\\.\\.\\.|/TEXT/|//|\\.|/|;'\n",
    "    split_texts = re.split(pattern, row['text'])\n",
    "    # Remove empty strings\n",
    "    split_texts = re.split(pattern, row['text'])\n",
    "    split_texts = [text for text in split_texts if text.strip() != '']\n",
    "    return pd.Series(split_texts)"
   ],
   "metadata": {
    "collapsed": false,
    "ExecuteTime": {
     "end_time": "2024-08-04T23:39:27.254026Z",
     "start_time": "2024-08-04T23:39:27.247785Z"
    }
   },
   "id": "208a12246cedbc7f",
   "execution_count": 7
  },
  {
   "cell_type": "code",
   "outputs": [],
   "source": [
    "def get_rleid(series):\n",
    "    return pd.Series((k for k, _ in groupby(series)))"
   ],
   "metadata": {
    "collapsed": false,
    "ExecuteTime": {
     "end_time": "2024-08-04T23:39:33.581754Z",
     "start_time": "2024-08-04T23:39:33.571247Z"
    }
   },
   "id": "247bf98f1b3afafb",
   "execution_count": 8
  },
  {
   "cell_type": "code",
   "outputs": [],
   "source": [
    "def not_in(a, b):\n",
    "    return np.array([x not in b for x in a])"
   ],
   "metadata": {
    "collapsed": false,
    "ExecuteTime": {
     "end_time": "2024-08-04T23:39:39.781028Z",
     "start_time": "2024-08-04T23:39:39.776131Z"
    }
   },
   "id": "c21898d3ce26a8e5",
   "execution_count": 9
  },
  {
   "cell_type": "code",
   "outputs": [],
   "source": [
    "def convert_to_docx_if_needed(input_file):\n",
    "    output_file = os.path.splitext(input_file)[0] + '.docx'\n",
    "\n",
    "    if os.path.exists(output_file):\n",
    "        print(f\"{output_file} already exists. Skipping conversion.\")\n",
    "    else:\n",
    "        try:\n",
    "            pypandoc.convert_file(input_file, 'docx', outputfile=output_file)\n",
    "            print(f\"File converted and saved to {output_file}\")\n",
    "        except RuntimeError:\n",
    "            output_path = os.path.dirname(input_file)\n",
    "            call(['libreoffice', '--convert-to', 'docx', input_file, '--outdir', output_path])\n",
    "            print(f\"File converted and saved to {output_file}\")"
   ],
   "metadata": {
    "collapsed": false,
    "ExecuteTime": {
     "end_time": "2024-08-04T23:40:19.000770Z",
     "start_time": "2024-08-04T23:40:18.991311Z"
    }
   },
   "id": "6543db1f76f6d64b",
   "execution_count": 11
  },
  {
   "cell_type": "code",
   "outputs": [],
   "source": [
    "def annotate_text(text):\n",
    "    return nlp(text)"
   ],
   "metadata": {
    "collapsed": false,
    "ExecuteTime": {
     "end_time": "2024-08-04T23:40:27.663213Z",
     "start_time": "2024-08-04T23:40:27.656782Z"
    }
   },
   "id": "317532472955c951",
   "execution_count": 12
  },
  {
   "cell_type": "code",
   "outputs": [],
   "source": [
    "def process_docx(file_path, output_folder):\n",
    "    # Read the content of the .docx file\n",
    "    raw_lines = read_doc(file_path)\n",
    "    raw_lines = [line.strip() for line in raw_lines if line.strip()]\n",
    "\n",
    "    df_doc = pd.DataFrame({'raw': raw_lines})\n",
    "\n",
    "    # Assign speaker labels\n",
    "    df_doc['speaker'] = df_doc['raw'].apply(\n",
    "        lambda x: 'Hablante' if x.startswith('Habl') else ('Entrevistador' if re.match(r'^Enc\\.[0-9]:', x) else None))\n",
    "    df_doc['speaker'] = df_doc['speaker'].ffill()\n",
    "    df_doc['text'] = df_doc['raw'].str.replace(\n",
    "        r'Habl.:|Habl.|Habl:|Enc.\\d:|Enc.:|Enc.|HABL:|I\\.:|E\\.:|E[0-9]:|AUX1:|O:', ''\n",
    "        , regex=True)\n",
    "\n",
    "    df_doc = df_doc.apply(split_text, axis=1).stack().reset_index(level=1, drop=True).to_frame('text').join(\n",
    "        df_doc[['speaker', 'raw']], how='left')\n",
    "\n",
    "    # Apply clean_text function\n",
    "    df_doc['text'] = df_doc['text'].apply(clean_text)\n",
    "\n",
    "    # Clean the split text\n",
    "    df_doc = df_doc.dropna(subset=['speaker', 'text']).reset_index(drop=True)\n",
    "\n",
    "    df_doc['speaker'] = df_doc['speaker'].fillna(method='ffill')\n",
    "\n",
    "    df_doc['text_clean'] = df_doc['text'].apply(lambda x: re.sub(r'[,\\.?¿\\.\\.\\.!¡]', '', x).strip())\n",
    "    df_doc = df_doc[df_doc['text_clean'].apply(lambda x: x not in ['', ' '])]\n",
    "\n",
    "    df_doc = df_doc.reset_index(drop=True)\n",
    "    df_doc = df_doc.reset_index(drop=True)\n",
    "    df_doc['group_turn'] = (df_doc['speaker'] != df_doc['speaker'].shift()).cumsum()\n",
    "    df_doc['speakerGroup_turn'] = df_doc.groupby('speaker')['group_turn'].transform(lambda x: (x != x.shift()).cumsum())\n",
    "    df_doc['line_number_n'] = df_doc.index + 1\n",
    "    df_doc['doc_index'] = df_doc.index + 1\n",
    "    df_doc['doc_id'] = 'doc' + df_doc['doc_index'].astype(str)\n",
    "\n",
    "    # Identify repetitions between turns\n",
    "    df_doc['repeat_nextTurn'] = 0\n",
    "    df_doc['repeat_nextTurn_word'] = ''\n",
    "\n",
    "    for i in range(len(df_doc) - 1):\n",
    "        last_current_word = df_doc['text'].iloc[i].split()[-1]\n",
    "        first_next_word = df_doc['text'].iloc[i + 1].split()[0]\n",
    "\n",
    "        if last_current_word == first_next_word:\n",
    "            df_doc.loc[i, 'repeat_nextTurn'] = 1\n",
    "            df_doc.loc[i, 'repeat_nextTurn_word'] = last_current_word\n",
    "\n",
    "    df_doc['stanza'] = df_doc['text'].apply(annotate_text)\n",
    "\n",
    "    # Convert Stanza annotations to DataFrame format\n",
    "    annotations = []\n",
    "\n",
    "    for i, doc in df_doc.iterrows():\n",
    "        for sentence in doc['stanza'].sentences:\n",
    "            for word in sentence.words:\n",
    "                annotations.append({\n",
    "                    'doc_id': doc['doc_id'],\n",
    "                    'token': word.text,\n",
    "                    'paragraph_id': sentence.index,\n",
    "                    'sentence_id': word.id,\n",
    "                    'text': sentence.text,\n",
    "                    'lemma': word.lemma,\n",
    "                    'upos': word.upos,\n",
    "                    'xpos': word.xpos,\n",
    "                    'deprel': word.deprel,\n",
    "                    'head_token_id': word.head,\n",
    "                    'misc': word.misc\n",
    "                })\n",
    "    df_ud = pd.DataFrame(annotations)\n",
    "\n",
    "    df_ud_matched = df_ud.merge(df_doc, on='doc_id', suffixes=('_ud', ''))\n",
    "    df_ud_matched['is_questionTag'] = df_ud_matched['text'].str.contains(r'\\¿no\\?').astype(int)\n",
    "    df_ud_matched['question_structure'] = df_ud_matched.apply(get_question_structure, axis=1)\n",
    "    df_ud_matched['exclamation_structure'] = df_ud_matched.apply(get_exclamation_structure, axis=1)\n",
    "\n",
    "    for i in range(len(df_ud_matched) - 1):\n",
    "        if (df_ud_matched.loc[i, 'question_structure'] == 'Start' and\n",
    "                df_ud_matched.loc[i + 1, 'question_structure'] == 'Other'):\n",
    "            df_ud_matched.loc[i + 1, 'question_structure'] = 'Start'\n",
    "        if df_ud_matched.loc[i, 'exclamation_structure'] == 'Start' and df_ud_matched.loc[\n",
    "            i + 1, 'exclamation_structure'] == 'Other':\n",
    "            df_ud_matched.loc[i + 1, 'exclamation_structure'] = 'Start'\n",
    "\n",
    "    # Match tagging\n",
    "    df_ud_matched['is_question'] = df_ud_matched['question_structure'].isin(['Inline', 'Start', 'End']).astype(int)\n",
    "    df_ud_matched['is_exclamation'] = df_ud_matched['exclamation_structure'].isin(['Inline', 'Start', 'End']).astype(\n",
    "        int)\n",
    "    df_ud_matched['is_statement'] = (\n",
    "                (df_ud_matched['is_question'] == 0) & (df_ud_matched['is_exclamation'] == 0)).astype(int)\n",
    "\n",
    "    # Calculate statistics\n",
    "    df_ud_matched['char_count'] = df_ud_matched['text'].str.len()\n",
    "    df_ud_matched['word_count'] = df_ud_matched['text'].str.split().str.len()\n",
    "\n",
    "    # Overall stats\n",
    "    df_ud_matched['total_Groupturns'] = df_ud_matched['group_turn'].max()\n",
    "    df_ud_matched['total_turns'] = len(df_ud_matched)\n",
    "    df_ud_matched['total_chars'] = df_ud_matched['char_count'].sum()\n",
    "    df_ud_matched['total_words'] = df_ud_matched['word_count'].sum()\n",
    "    df_ud_matched['average_chars'] = df_ud_matched['char_count'].mean()\n",
    "    df_ud_matched['average_words'] = df_ud_matched['word_count'].mean()\n",
    "\n",
    "    # Sentence types\n",
    "    df_ud_matched['total_questionTags'] = df_ud_matched['is_questionTag'].sum()\n",
    "    df_ud_matched['total_questions'] = df_ud_matched['is_question'].sum()\n",
    "    df_ud_matched['total_exclamations'] = df_ud_matched['is_exclamation'].sum()\n",
    "    df_ud_matched['total_statements'] = df_ud_matched['is_statement'].sum()\n",
    "\n",
    "    # Repetitions\n",
    "    df_ud_matched['total_repetitions'] = df_ud_matched['repeat_nextTurn'].sum()\n",
    "\n",
    "    # Stats by speaker\n",
    "    speaker_stats = df_ud_matched.groupby('speaker').agg({\n",
    "        'speakerGroup_turn': 'max',\n",
    "        'doc_id': 'count',\n",
    "        'char_count': 'sum',\n",
    "        'word_count': 'sum',\n",
    "        'is_questionTag': 'sum',\n",
    "        'is_question': 'sum',\n",
    "        'is_exclamation': 'sum',\n",
    "        'is_statement': 'sum',\n",
    "        'repeat_nextTurn': 'sum'\n",
    "    }).rename(columns={\n",
    "        'speakerGroup_turn': 'speaker_total_Groupturns',\n",
    "        'doc_id': 'speaker_total_turns',\n",
    "        'char_count': 'speaker_total_chars',\n",
    "        'word_count': 'speaker_total_words',\n",
    "        'is_questionTag': 'speaker_total_questionTags',\n",
    "        'is_question': 'speaker_total_questions',\n",
    "        'is_exclamation': 'speaker_total_exclamations',\n",
    "        'is_statement': 'speaker_total_statements',\n",
    "        'repeat_nextTurn': 'speaker_total_repetitions'\n",
    "    })\n",
    "\n",
    "    speaker_stats['speaker_average_chars'] = speaker_stats['speaker_total_chars'] / speaker_stats['speaker_total_turns']\n",
    "    speaker_stats['speaker_average_words'] = speaker_stats['speaker_total_words'] / speaker_stats['speaker_total_turns']\n",
    "\n",
    "    df_ud_matched = pd.merge(df_ud_matched, speaker_stats, on='speaker')\n",
    "\n",
    "    # Calculate percentages\n",
    "    total_turns = df_ud_matched['total_turns'].iloc[0]\n",
    "    df_ud_matched['speaker_percentage_Groupturns'] = df_ud_matched['speaker_total_Groupturns'] / df_ud_matched[\n",
    "        'total_Groupturns']\n",
    "    df_ud_matched['speaker_percentage_turns'] = df_ud_matched['speaker_total_turns'] / total_turns\n",
    "    df_ud_matched['speaker_percentage_chars'] = df_ud_matched['speaker_total_chars'] / df_ud_matched['total_chars']\n",
    "    df_ud_matched['speaker_percentage_words'] = df_ud_matched['speaker_total_words'] / df_ud_matched['total_words']\n",
    "    df_ud_matched['speaker_percentage_questionTags'] = df_ud_matched['speaker_total_questionTags'] / total_turns\n",
    "    df_ud_matched['speaker_percentage_questions'] = df_ud_matched['speaker_total_questions'] / total_turns\n",
    "    df_ud_matched['speaker_percentage_exclamations'] = df_ud_matched['speaker_total_exclamations'] / total_turns\n",
    "    df_ud_matched['speaker_percentage_statements'] = df_ud_matched['speaker_total_statements'] / total_turns\n",
    "    df_ud_matched['speaker_percentage_repetitions'] = df_ud_matched['speaker_total_repetitions'] / total_turns\n",
    "\n",
    "    # Intra speaker percentages\n",
    "    df_ud_matched['intra_speaker_percentage_questionTags'] = df_ud_matched['speaker_total_questionTags'] / \\\n",
    "                                                             df_ud_matched['speaker_total_turns']\n",
    "    df_ud_matched['intra_speaker_percentage_questions'] = df_ud_matched['speaker_total_questions'] / df_ud_matched[\n",
    "        'speaker_total_turns']\n",
    "    df_ud_matched['intra_speaker_percentage_exclamations'] = df_ud_matched['speaker_total_exclamations'] / \\\n",
    "                                                             df_ud_matched['speaker_total_turns']\n",
    "    df_ud_matched['intra_speaker_percentage_statements'] = df_ud_matched['speaker_total_statements'] / df_ud_matched[\n",
    "        'speaker_total_turns']\n",
    "    # Save the results for this document\n",
    "\n",
    "    df_ud_matched.pop('stanza')\n",
    "\n",
    "    output_csv = os.path.basename(file_path).split('.')[0]+'.csv'\n",
    "    output_path = os.path.join(output_folder, output_csv)\n",
    "\n",
    "    df_ud_matched.to_csv(output_path, index=False)\n",
    "    print(f\"Processed and saved results for {output_path}\")"
   ],
   "metadata": {
    "collapsed": false,
    "ExecuteTime": {
     "end_time": "2024-08-04T23:40:52.197328Z",
     "start_time": "2024-08-04T23:40:52.057472Z"
    }
   },
   "id": "3c15fe7782f87e43",
   "execution_count": 13
  },
  {
   "cell_type": "code",
   "outputs": [],
   "source": [
    "def process_folder(input_folder, output_folder):\n",
    "    # Convert .doc files to .docx if needed\n",
    "    for filename in os.listdir(input_folder):\n",
    "        if filename.endswith('.doc'):\n",
    "            input_file = os.path.join(input_folder, filename)\n",
    "            convert_to_docx_if_needed(input_file)\n",
    "\n",
    "    # Process all .docx files\n",
    "    for filename in os.listdir(input_folder):\n",
    "        if filename.endswith('.docx'):\n",
    "            file_path = os.path.join(input_folder, filename)\n",
    "            process_docx(file_path, output_folder)"
   ],
   "metadata": {
    "collapsed": false,
    "ExecuteTime": {
     "end_time": "2024-08-04T23:41:00.912597Z",
     "start_time": "2024-08-04T23:41:00.894365Z"
    }
   },
   "id": "44271c1840f1a19",
   "execution_count": 14
  },
  {
   "cell_type": "code",
   "outputs": [],
   "source": [
    "def get_output_directory_path():\n",
    "    # Get the directory of the current Python file\n",
    "    current_dir = os.getcwd()\n",
    "\n",
    "    # Define the output directory path\n",
    "    output_dir = os.path.join(current_dir, 'Input_Output', 'Output')\n",
    "\n",
    "    # Check if the output directory exists, if not, create it\n",
    "    if not os.path.exists(output_dir):\n",
    "        os.makedirs(output_dir)\n",
    "        print(f\"Output directory created at: {output_dir}\")\n",
    "    else:\n",
    "        print(f\"Output directory already exists at: {output_dir}\")\n",
    "\n",
    "    return output_dir"
   ],
   "metadata": {
    "collapsed": false,
    "ExecuteTime": {
     "end_time": "2024-08-04T23:41:54.496866Z",
     "start_time": "2024-08-04T23:41:54.486914Z"
    }
   },
   "id": "9d619a454ce610c6",
   "execution_count": 18
  },
  {
   "cell_type": "code",
   "outputs": [
    {
     "name": "stdout",
     "output_type": "stream",
     "text": [
      "Output directory already exists at: /Users/pradeepchandran/ccs_corpus/Summer2024/Divya/NLP/Input_Output/Output\n",
      "convert /Users/pradeepchandran/ccs_corpus/Summer2024/Divya/NLP/Input_Output/Input/CA1HA_87.doc as a Writer document -> /Users/pradeepchandran/ccs_corpus/Summer2024/Divya/NLP/Input_Output/Input/CA1HA_87.docx using filter : Office Open XML Text\n",
      "File converted and saved to /Users/pradeepchandran/ccs_corpus/Summer2024/Divya/NLP/Input_Output/Input/CA1HA_87.docx\n"
     ]
    },
    {
     "name": "stderr",
     "output_type": "stream",
     "text": [
      "/var/folders/mk/d88d1t4d5w13rj554jcl_r5w0000gn/T/ipykernel_48739/515303036.py:25: FutureWarning: Series.fillna with 'method' is deprecated and will raise in a future version. Use obj.ffill() or obj.bfill() instead.\n",
      "  df_doc['speaker'] = df_doc['speaker'].fillna(method='ffill')\n"
     ]
    },
    {
     "name": "stdout",
     "output_type": "stream",
     "text": [
      "Processed and saved results for /Users/pradeepchandran/ccs_corpus/Summer2024/Divya/NLP/Input_Output/Output/CA1HA_87.csv\n"
     ]
    }
   ],
   "source": [
    "current_dir = os.getcwd()\n",
    "input_folder = os.path.join(current_dir, 'Input_Output', 'Input')\n",
    "output_folder = get_output_directory_path()\n",
    "process_folder(input_folder, output_folder)"
   ],
   "metadata": {
    "collapsed": false,
    "ExecuteTime": {
     "end_time": "2024-08-04T23:46:17.320560Z",
     "start_time": "2024-08-04T23:42:29.384146Z"
    }
   },
   "id": "9aeb8ce4d0d3908e",
   "execution_count": 20
  },
  {
   "cell_type": "code",
   "outputs": [],
   "source": [],
   "metadata": {
    "collapsed": false,
    "ExecuteTime": {
     "end_time": "2024-08-04T23:46:17.329120Z",
     "start_time": "2024-08-04T23:46:17.323478Z"
    }
   },
   "id": "c8c04a15a4e5477a",
   "execution_count": 20
  }
 ],
 "metadata": {
  "kernelspec": {
   "display_name": "Python 3",
   "language": "python",
   "name": "python3"
  },
  "language_info": {
   "codemirror_mode": {
    "name": "ipython",
    "version": 2
   },
   "file_extension": ".py",
   "mimetype": "text/x-python",
   "name": "python",
   "nbconvert_exporter": "python",
   "pygments_lexer": "ipython2",
   "version": "2.7.6"
  }
 },
 "nbformat": 4,
 "nbformat_minor": 5
}
